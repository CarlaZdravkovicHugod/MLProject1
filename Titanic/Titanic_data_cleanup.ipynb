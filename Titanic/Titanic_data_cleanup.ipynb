{
 "cells": [
  {
   "cell_type": "code",
   "execution_count": 22,
   "metadata": {},
   "outputs": [
    {
     "name": "stdout",
     "output_type": "stream",
     "text": [
      "These are the features: ['Survived' 'Pclass' 'Name' 'Sex' 'Age' 'Siblings/Spouses Aboard'\n",
      " 'Parents/Children Aboard' 'Fare']\n"
     ]
    }
   ],
   "source": [
    "import numpy as np\n",
    "import pandas as pd\n",
    "\n",
    "filename = 'titanic.csv'\n",
    "data = pd.read_csv(filename)\n",
    "\n",
    "raw_data = data.values # converting from pandas dataframe to numpy array\n",
    "attribute_names = np.asarray(data.columns) # extracting the attribute names\n",
    "print(\"These are the features:\",attribute_names)\n"
   ]
  },
  {
   "cell_type": "code",
   "execution_count": 23,
   "metadata": {},
   "outputs": [],
   "source": [
    "data = np.array(raw_data) # turning data into numpy array\n",
    "\n",
    "# For the gender attribute we replace 'male' with the number 0 and 'female' with 1:\n",
    "data[data == 'male'] = 0 \n",
    "data[data == 'female'] = 1\n",
    "\n",
    "# Normalize ratio attributes OBS 3*std\n",
    "data[:,4] = (data[:,4]-np.mean(data[:,4]))/(3*np.std(data[:,4]))\n",
    "data[:,7] = (data[:,7]-np.mean(data[:,6]))/(3*np.std(data[:,7]))"
   ]
  },
  {
   "cell_type": "code",
   "execution_count": 24,
   "metadata": {},
   "outputs": [],
   "source": [
    "# Applying 1-out-of-K on name and pclass attribute. \n",
    "# For name we only use the 'titel' before the name. 'Mr', 'Mrs', 'Miss' and 'Master' is assigned a number each\n",
    "# All other titels is just assigned a common number (about 1 procent of dataset) (skal lige fact tjekkes)\n",
    "\n",
    "# Extract titles for all data points\n",
    "titel_list = [raw_data[:,2][i].split('.')[0] for i in range(len(raw_data[:,2]))]\n",
    "\n",
    "# Assign correct number for each title in titel_list\n",
    "titel_to_number_dict = {'Mr':0, 'Mrs':1, 'Miss':2, 'Master':3, 'Don':4, 'Rev':4, 'Dr':4, 'Mme':4, 'Ms':4, 'Major':4, 'Lady':4, 'Sir':4, 'Mlle':4, 'Col':4, 'Capt':4, 'the Countess':4, 'Jonkheer': 4}\n",
    "for i in range(len(titel_list)):\n",
    "    titel_list[i]=titel_to_number_dict[titel_list[i]]\n",
    "\n",
    "# 1-out-of-K\n",
    "titel_list_arr = np.array(titel_list)\n",
    "K = titel_list_arr.max()+1\n",
    "titel_encoding = np.zeros((titel_list_arr.size, K))\n",
    "titel_encoding[np.arange(titel_list_arr.size), titel_list_arr] = 1\n",
    "\n",
    "# Same process as above, but for pclass\n",
    "class_list = [raw_data[:,1][i] for i in range(len(raw_data[:,1]))]\n",
    "class_list_arr = np.array(class_list)\n",
    "K2 = titel_list_arr.max()\n",
    "class_encoding = np.zeros((class_list_arr.size, K2))\n",
    "class_encoding[np.arange(class_list_arr.size), class_list_arr] = 1\n",
    "class_encoding = class_encoding[:,1:]"
   ]
  },
  {
   "cell_type": "code",
   "execution_count": 25,
   "metadata": {},
   "outputs": [],
   "source": [
    "# Replacing name and pclass with 1-out-of-K representations\n",
    "\n",
    "# For class\n",
    "data = np.delete(data, 1, axis=1)\n",
    "for i in range(class_encoding.shape[1]):\n",
    "    data = np.insert(data, i+1, class_encoding[:,i], axis=1)\n",
    "\n",
    "# For name (titel)\n",
    "data = np.delete(data, 4, axis=1)\n",
    "for i in range(titel_encoding.shape[1]):\n",
    "    data = np.insert(data, i+4, titel_encoding[:,i], axis=1)"
   ]
  },
  {
   "cell_type": "code",
   "execution_count": 26,
   "metadata": {},
   "outputs": [
    {
     "data": {
      "text/plain": [
       "(0, 8, 0, 6)"
      ]
     },
     "execution_count": 26,
     "metadata": {},
     "output_type": "execute_result"
    }
   ],
   "source": [
    "# As shown below 'Siblings/Spouses Aboard' and 'Parents/Children Aboard' has a big interval compared to the rest of the data\n",
    "np.min(data[:,11]), np.max(data[:,11]), np.min(data[:,12]), np.max(data[:,12])"
   ]
  },
  {
   "cell_type": "code",
   "execution_count": 27,
   "metadata": {},
   "outputs": [
    {
     "data": {
      "text/plain": [
       "(0.0, 0.9542425094393249, 0.0, 0.8450980400142568)"
      ]
     },
     "execution_count": 27,
     "metadata": {},
     "output_type": "execute_result"
    }
   ],
   "source": [
    "# To eleminate this bias, we use log()\n",
    "for i in range(data.shape[0]):\n",
    "    data[i,11] = np.log10(data[i,11]+1)\n",
    "    data[i,12] = np.log10(data[i,12]+1)\n",
    "\n",
    "np.min(data[:,11]), np.max(data[:,11]), np.min(data[:,12]), np.max(data[:,12])"
   ]
  },
  {
   "cell_type": "code",
   "execution_count": 28,
   "metadata": {},
   "outputs": [],
   "source": [
    "#exportdata = pd.DataFrame(data)\n",
    "#exportdata.to_csv('titanicdata_cleanedv2.csv', index=False)"
   ]
  }
 ],
 "metadata": {
  "kernelspec": {
   "display_name": "base",
   "language": "python",
   "name": "python3"
  },
  "language_info": {
   "codemirror_mode": {
    "name": "ipython",
    "version": 3
   },
   "file_extension": ".py",
   "mimetype": "text/x-python",
   "name": "python",
   "nbconvert_exporter": "python",
   "pygments_lexer": "ipython3",
   "version": "3.10.8"
  },
  "orig_nbformat": 4,
  "vscode": {
   "interpreter": {
    "hash": "3dc8e3e4ff9c8fdbed109d8133de8d8f695e288fe9361851b36cbf17bb1975b3"
   }
  }
 },
 "nbformat": 4,
 "nbformat_minor": 2
}
