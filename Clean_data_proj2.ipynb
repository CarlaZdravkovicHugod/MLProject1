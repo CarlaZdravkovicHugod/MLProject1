{
 "cells": [
  {
   "cell_type": "markdown",
   "metadata": {},
   "source": [
    "# Data for project 2:"
   ]
  },
  {
   "cell_type": "code",
   "execution_count": 66,
   "metadata": {},
   "outputs": [],
   "source": [
    "import numpy as np\n",
    "import pandas as pd\n",
    "import matplotlib.pyplot as plt\n",
    "from scipy import stats\n",
    "import os\n",
    "from collections import Counter\n",
    "import matplotlib.pyplot as plt"
   ]
  },
  {
   "cell_type": "code",
   "execution_count": 29,
   "metadata": {},
   "outputs": [],
   "source": [
    "os.chdir('/Users/carlahugod/Desktop/UNI/3sem/ML/Project1')"
   ]
  },
  {
   "cell_type": "code",
   "execution_count": 91,
   "metadata": {},
   "outputs": [
    {
     "name": "stdout",
     "output_type": "stream",
     "text": [
      "['sex' 'age' 'height' 'weight' 'waistline' 'sight_left' 'sight_right'\n",
      " 'hear_left' 'hear_right' 'SBP' 'DBP' 'BLDS' 'tot_chole' 'HDL_chole'\n",
      " 'LDL_chole' 'triglyceride' 'hemoglobin' 'urine_protein'\n",
      " 'serum_creatinine' 'SGOT_AST' 'SGOT_ALT' 'gamma_GTP' 'SMK_stat_type_cd'\n",
      " 'DRK_YN']\n"
     ]
    }
   ],
   "source": [
    "filename = 'smoking_driking_dataset_Ver01.csv'\n",
    "data = pd.read_csv(filename)\n",
    "\n",
    "X = data.values\n",
    "\n",
    "attriubutes = np.asarray(data.columns)\n",
    "print(attriubutes)\n",
    "\n",
    "cols = range(0,24) # 24 columns in the data set\n",
    "X = X[:,cols] # defining the data as a matrix\n",
    "\n",
    "# Replacing strings with numbers. Starting with gender:\n",
    "X[X == 'Female'] = 0\n",
    "X[X == 'Male'] = 1\n",
    "\n",
    "# Replacing Y = yes with 1 and N = no with 0 in regards to drinking\n",
    "X[X == 'Y'] = 1\n",
    "X[X == 'N'] = 0\n",
    "\n"
   ]
  },
  {
   "cell_type": "code",
   "execution_count": 92,
   "metadata": {},
   "outputs": [],
   "source": [
    "# Remove outliers: waistline, eye sight\n",
    "\n",
    "# eye sight, 9.9 means blind, therefore replacing with 0. That is columnb 5 and 6 starting from 0\n",
    "X[X[:,5] == 9.9] = 0\n",
    "X[X[:,6] == 9.9] = 0\n",
    "\n",
    "# Create a for loop to find all the indices where waistline is 999\n",
    "indices = []\n",
    "c = 0\n",
    "for i in range(0, len(X[:,4])):\n",
    "    if X[i,4] == 999:\n",
    "        indices.append(i)\n",
    "    if X[i,4] < 1:\n",
    "        c += 1\n",
    "        indices.append(i)\n",
    "\n",
    "# Now removing the rows with the indices found above\n",
    "X = np.delete(X, indices, axis=0)\n",
    "\n",
    "# Doing the samr for SGOT_AST\n",
    "indices = []\n",
    "c = 0\n",
    "for i in range(0, len(X[:,19])):\n",
    "    if X[i,19] > 3000:\n",
    "        c += 1\n",
    "        indices.append(i)\n",
    "\n",
    "X = np.delete(X, indices, axis=0)"
   ]
  },
  {
   "cell_type": "code",
   "execution_count": 93,
   "metadata": {},
   "outputs": [],
   "source": [
    "# Standardize the data, execept last two columns\n",
    "for i in [0,1,2,3,4,5,6,9,10,11,12,13,14,15,16,17, 18,19,20,21,23]:\n",
    "    X[:,i] = (X[:,i] - X[:,i].mean()) / X[:,i].std()\n",
    "# Here everything is standardized, except the last two columns, \n",
    "\n",
    "# Now I will only acces the last column and standardize it:\n",
    "X[:,23] = (X[:,22] - X[:,22].mean()) / X[:,22].std()"
   ]
  },
  {
   "cell_type": "code",
   "execution_count": 95,
   "metadata": {},
   "outputs": [],
   "source": [
    "one_out_of_K_cols_dict = {'encoding1':'hear_left', 'encoding2':'hear_right', 'encoding4':'SMK_stat_type_cd'}\n",
    "\n",
    "# getting indices of collums that needs encoding\n",
    "indices_list = [index for index, element in enumerate(attriubutes) if element in one_out_of_K_cols_dict.values()]\n",
    "\n",
    "key_iterator = iter(one_out_of_K_cols_dict)\n",
    "\n",
    "# For loop for creating encoding matrix for all keys in one_out_of_K_cols_dict\n",
    "for i in range(len(indices_list)):\n",
    "    K = int(X[:,indices_list[i]].max())+1\n",
    "    encoding = np.zeros((X[:,indices_list[i]].size, K))\n",
    "    encoding[np.arange(X[:,indices_list[i]].size),X[:,indices_list[i]].astype(int)] = 1\n",
    "    # deleting first column, because values incoded goes from 1:n and not 0:n, so K=K+1, for this to work.\n",
    "    encoding = encoding[:,1:]\n",
    "    # Storing encoding as value in dict\n",
    "    one_out_of_K_cols_dict[str(next(key_iterator))] = encoding\n",
    "\n",
    "# Deleting old data columns\n",
    "for j in range(len(indices_list)):\n",
    "    data = np.delete(X, indices_list[j]-j, axis=1)\n",
    "\n",
    "# Remember that last key (encoding for 'SMK_stat_type_cd') will be the first colums in data matrix\n",
    "# smoking staus first, hearing right, hearing left. Smoking status is the first 3 columns. SMT1 is the first column.\n",
    "\n",
    "for key in one_out_of_K_cols_dict:\n",
    "    for k in range(one_out_of_K_cols_dict[str(key)].shape[1]):\n",
    "        X = np.insert(X, k, one_out_of_K_cols_dict[str(key)][:,k], axis=1)"
   ]
  },
  {
   "cell_type": "code",
   "execution_count": null,
   "metadata": {},
   "outputs": [],
   "source": []
  }
 ],
 "metadata": {
  "kernelspec": {
   "display_name": "Python 3.11.3 64-bit",
   "language": "python",
   "name": "python3"
  },
  "language_info": {
   "codemirror_mode": {
    "name": "ipython",
    "version": 3
   },
   "file_extension": ".py",
   "mimetype": "text/x-python",
   "name": "python",
   "nbconvert_exporter": "python",
   "pygments_lexer": "ipython3",
   "version": "3.11.3"
  },
  "orig_nbformat": 4,
  "vscode": {
   "interpreter": {
    "hash": "b0fa6594d8f4cbf19f97940f81e996739fb7646882a419484c72d19e05852a7e"
   }
  }
 },
 "nbformat": 4,
 "nbformat_minor": 2
}
