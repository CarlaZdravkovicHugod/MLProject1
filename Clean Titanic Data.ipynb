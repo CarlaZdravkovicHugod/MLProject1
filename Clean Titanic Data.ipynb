{
 "cells": [
  {
   "cell_type": "markdown",
   "metadata": {},
   "source": [
    "# Clean Titanic Data:"
   ]
  },
  {
   "cell_type": "code",
   "execution_count": 46,
   "metadata": {},
   "outputs": [],
   "source": [
    "import numpy as np\n",
    "import pandas as pd"
   ]
  },
  {
   "cell_type": "code",
   "execution_count": 94,
   "metadata": {},
   "outputs": [
    {
     "name": "stdout",
     "output_type": "stream",
     "text": [
      "These are the features: ['Survived' 'Pclass' 'Sex' 'Age' 'Siblings/Spouses Aboard'\n",
      " 'Parents/Children Aboard' 'Fare']\n"
     ]
    },
    {
     "data": {
      "text/plain": [
       "array([[0, 3, 0, 22.0, 1, 0, 7.25],\n",
       "       [1, 1, 1, 38.0, 1, 0, 71.2833],\n",
       "       [1, 3, 1, 26.0, 0, 0, 7.925],\n",
       "       [1, 1, 1, 35.0, 1, 0, 53.1],\n",
       "       [0, 3, 0, 35.0, 0, 0, 8.05],\n",
       "       [0, 3, 0, 27.0, 0, 0, 8.4583],\n",
       "       [0, 1, 0, 54.0, 0, 0, 51.8625],\n",
       "       [0, 3, 0, 2.0, 3, 1, 21.075],\n",
       "       [1, 3, 1, 27.0, 0, 2, 11.1333],\n",
       "       [1, 2, 1, 14.0, 1, 0, 30.0708]], dtype=object)"
      ]
     },
     "execution_count": 94,
     "metadata": {},
     "output_type": "execute_result"
    }
   ],
   "source": [
    "filename = 'titanic.csv'\n",
    "data = pd.read_csv(filename)\n",
    "\n",
    "raw_data = data.values # converting from pandas dataframe to numpy array\n",
    "\n",
    "attribute_names = np.asarray(data.columns) # extracting the attribute names\n",
    "attribute_names = np.delete(attribute_names,2) # removing the names\n",
    "\n",
    "\n",
    "print(\"These are the features:\",attribute_names)\n",
    "\n",
    "cols = range(0, 8) # 8 columns in the data set\n",
    "data = raw_data[:, cols] # defining the data as a matrix\n",
    "\n",
    "data = np.delete(data,2,1) # removing the names\n",
    "\n",
    "# replace the strings of gender with numbers:\n",
    "data[data == 'male'] = 0 \n",
    "data[data == 'female'] = 1\n",
    "\n",
    "data[:10]"
   ]
  },
  {
   "cell_type": "code",
   "execution_count": 95,
   "metadata": {},
   "outputs": [],
   "source": [
    "fare = data[:,6]\n",
    "stand_fare = (fare-np.mean(fare))/np.std(fare)\n",
    "age = data[:,3]\n",
    "stand_age = (age-np.mean(age))/np.std(age)\n",
    "\n",
    "data[:,6] = stand_fare\n",
    "data[:,3] = stand_age"
   ]
  },
  {
   "cell_type": "code",
   "execution_count": 97,
   "metadata": {},
   "outputs": [
    {
     "data": {
      "text/plain": [
       "array([[0, 3, 0, -0.5293660072573251, 1, 0, -0.5035863459797049],\n",
       "       [1, 1, 1, 0.604264543188183, 1, 0, 0.7834124485273986],\n",
       "       [1, 3, 1, -0.24595836964594808, 0, 0, -0.4900195895218572],\n",
       "       [1, 1, 1, 0.39170881497965027, 1, 0, 0.4179481482311307],\n",
       "       [0, 3, 0, 0.39170881497965027, 0, 0, -0.48750722721484835],\n",
       "       [0, 3, 0, -0.1751064602431038, 0, 0, -0.47930084697523473],\n",
       "       [0, 1, 0, 1.7378950936336912, 0, 0, 0.3930757613917433],\n",
       "       [0, 3, 0, -1.9464041953142104, 3, 1, -0.22571907482452924],\n",
       "       [1, 3, 1, -0.1751064602431038, 0, 2, -0.42553629360524603],\n",
       "       [1, 2, 1, -1.0961812824800792, 1, 0, -0.044913404093409666]],\n",
       "      dtype=object)"
      ]
     },
     "execution_count": 97,
     "metadata": {},
     "output_type": "execute_result"
    }
   ],
   "source": [
    "data[:10]"
   ]
  },
  {
   "cell_type": "code",
   "execution_count": null,
   "metadata": {},
   "outputs": [],
   "source": []
  }
 ],
 "metadata": {
  "kernelspec": {
   "display_name": "Python 3.11.3 64-bit",
   "language": "python",
   "name": "python3"
  },
  "language_info": {
   "codemirror_mode": {
    "name": "ipython",
    "version": 3
   },
   "file_extension": ".py",
   "mimetype": "text/x-python",
   "name": "python",
   "nbconvert_exporter": "python",
   "pygments_lexer": "ipython3",
   "version": "3.11.3"
  },
  "orig_nbformat": 4,
  "vscode": {
   "interpreter": {
    "hash": "b0fa6594d8f4cbf19f97940f81e996739fb7646882a419484c72d19e05852a7e"
   }
  }
 },
 "nbformat": 4,
 "nbformat_minor": 2
}
