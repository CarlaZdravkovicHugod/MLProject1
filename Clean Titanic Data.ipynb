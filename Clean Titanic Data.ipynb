{
 "cells": [
  {
   "cell_type": "markdown",
   "metadata": {},
   "source": [
    "# Clean Titanic Data:"
   ]
  },
  {
   "cell_type": "code",
   "execution_count": 46,
   "metadata": {},
   "outputs": [],
   "source": [
    "import numpy as np\n",
    "import pandas as pd"
   ]
  },
  {
   "cell_type": "code",
   "execution_count": 47,
   "metadata": {},
   "outputs": [
    {
     "name": "stdout",
     "output_type": "stream",
     "text": [
      "These are the features: ['Survived' 'Pclass' 'Name' 'Sex' 'Age' 'Siblings/Spouses Aboard'\n",
      " 'Parents/Children Aboard' 'Fare']\n"
     ]
    },
    {
     "data": {
      "text/plain": [
       "array([[0, 3, 0, ..., 1, 0, 7.25],\n",
       "       [1, 1, 1, ..., 1, 0, 71.2833],\n",
       "       [1, 3, 1, ..., 0, 0, 7.925],\n",
       "       ...,\n",
       "       [0, 3, 1, ..., 1, 2, 23.45],\n",
       "       [1, 1, 0, ..., 0, 0, 30.0],\n",
       "       [0, 3, 0, ..., 0, 0, 7.75]], dtype=object)"
      ]
     },
     "execution_count": 47,
     "metadata": {},
     "output_type": "execute_result"
    }
   ],
   "source": [
    "filename = 'titanic.csv'\n",
    "data = pd.read_csv(filename)\n",
    "\n",
    "raw_data = data.values # converting from pandas dataframe to numpy array\n",
    "\n",
    "attribute_names = np.asarray(data.columns) # extracting the attribute names\n",
    "print(\"These are the features:\",attribute_names)\n",
    "\n",
    "cols = range(0, 8) # 8 columns in the data set\n",
    "data = raw_data[:, cols] # defining the data as a matrix\n",
    "\n",
    "data = np.delete(data,2,1) # removing the names\n",
    "\n",
    "# replace the strings of gender with numbers:\n",
    "data[data == 'male'] = 0 \n",
    "data[data == 'female'] = 1\n",
    "\n",
    "data"
   ]
  },
  {
   "cell_type": "code",
   "execution_count": null,
   "metadata": {},
   "outputs": [],
   "source": []
  }
 ],
 "metadata": {
  "kernelspec": {
   "display_name": "Python 3.11.3 64-bit",
   "language": "python",
   "name": "python3"
  },
  "language_info": {
   "codemirror_mode": {
    "name": "ipython",
    "version": 3
   },
   "file_extension": ".py",
   "mimetype": "text/x-python",
   "name": "python",
   "nbconvert_exporter": "python",
   "pygments_lexer": "ipython3",
   "version": "3.11.3"
  },
  "orig_nbformat": 4,
  "vscode": {
   "interpreter": {
    "hash": "b0fa6594d8f4cbf19f97940f81e996739fb7646882a419484c72d19e05852a7e"
   }
  }
 },
 "nbformat": 4,
 "nbformat_minor": 2
}
