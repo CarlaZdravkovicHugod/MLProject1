{
 "cells": [
  {
   "cell_type": "markdown",
   "metadata": {},
   "source": [
    "# Clean Glass Data:"
   ]
  },
  {
   "cell_type": "code",
   "execution_count": 1,
   "metadata": {},
   "outputs": [],
   "source": [
    "import numpy as np\n",
    "import pandas as pd\n",
    "import os"
   ]
  },
  {
   "cell_type": "code",
   "execution_count": 10,
   "metadata": {},
   "outputs": [],
   "source": [
    "# Read the csv file\n",
    "filename = 'glass.csv'\n",
    "df = pd.read_csv(filename)\n",
    "\n",
    "# Convert the dataframe to numpy array\n",
    "raw_data = df.values\n",
    "\n",
    "# Naming the attributes since they are in a different csv file\n",
    "attribute_names = ['ID','RI','Na','Mg','Al','Si','K','Ca','Ba','Fe','Type'] "
   ]
  },
  {
   "cell_type": "code",
   "execution_count": 11,
   "metadata": {},
   "outputs": [],
   "source": [
    "# Removing the ID attribute\n",
    "raw_data = raw_data[:,1:]\n",
    "\n",
    "cols = range(0,10) # 10 columns\n",
    "data = raw_data[:,cols] # defining the data matrix"
   ]
  },
  {
   "cell_type": "code",
   "execution_count": 12,
   "metadata": {},
   "outputs": [],
   "source": [
    "# Standardize the data, execept last column which is the type of glass\n",
    "for i in range(0,8):\n",
    "    data[:,i] = (data[:,i] - data[:,i].mean()) / data[:,i].std()"
   ]
  },
  {
   "cell_type": "code",
   "execution_count": 14,
   "metadata": {},
   "outputs": [],
   "source": [
    "# Using the one-out-of-K encoding for the last column\n"
   ]
  },
  {
   "cell_type": "code",
   "execution_count": null,
   "metadata": {},
   "outputs": [],
   "source": []
  }
 ],
 "metadata": {
  "kernelspec": {
   "display_name": "Python 3.9.12 ('base')",
   "language": "python",
   "name": "python3"
  },
  "language_info": {
   "codemirror_mode": {
    "name": "ipython",
    "version": 3
   },
   "file_extension": ".py",
   "mimetype": "text/x-python",
   "name": "python",
   "nbconvert_exporter": "python",
   "pygments_lexer": "ipython3",
   "version": "3.9.12"
  },
  "orig_nbformat": 4,
  "vscode": {
   "interpreter": {
    "hash": "40d3a090f54c6569ab1632332b64b2c03c39dcf918b08424e98f38b5ae0af88f"
   }
  }
 },
 "nbformat": 4,
 "nbformat_minor": 2
}
